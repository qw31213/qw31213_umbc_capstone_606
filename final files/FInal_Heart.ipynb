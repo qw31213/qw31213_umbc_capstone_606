{
 "cells": [
  {
   "cell_type": "code",
   "execution_count": 1,
   "id": "1663eeb2",
   "metadata": {},
   "outputs": [
    {
     "name": "stdout",
     "output_type": "stream",
     "text": [
      " Volume in drive C is OS\n",
      " Volume Serial Number is 8268-0CB7\n",
      "\n",
      " Directory of C:\\Users\\shrut\\Downloads\\capstone\\final files\n",
      "\n",
      "05/16/2024  02:44 PM    <DIR>          .\n",
      "05/16/2024  02:43 PM    <DIR>          ..\n",
      "05/16/2024  02:44 PM    <DIR>          .ipynb_checkpoints\n",
      "05/16/2024  02:42 PM            96,382 ab.csv\n",
      "05/16/2024  02:42 PM            20,040 FInal_Heart.ipynb\n",
      "05/16/2024  02:42 PM             6,191 logistic_regression_model.joblib\n",
      "05/16/2024  02:42 PM            14,260 preprocessing_pipeline.joblib\n",
      "05/16/2024  02:42 PM             2,786 stream.py\n",
      "               5 File(s)        139,659 bytes\n",
      "               3 Dir(s)  360,319,291,392 bytes free\n"
     ]
    }
   ],
   "source": [
    "ls\n"
   ]
  },
  {
   "cell_type": "code",
   "execution_count": 43,
   "id": "36a1637b",
   "metadata": {},
   "outputs": [
    {
     "name": "stdout",
     "output_type": "stream",
     "text": [
      "Requirement already satisfied: lightgbm in c:\\users\\shrut\\anaconda3\\lib\\site-packages (4.3.0)\n",
      "Requirement already satisfied: numpy in c:\\users\\shrut\\anaconda3\\lib\\site-packages (from lightgbm) (1.24.3)\n",
      "Requirement already satisfied: scipy in c:\\users\\shrut\\anaconda3\\lib\\site-packages (from lightgbm) (1.11.1)\n",
      "Note: you may need to restart the kernel to use updated packages.\n"
     ]
    }
   ],
   "source": [
    "pip install lightgbm"
   ]
  },
  {
   "cell_type": "code",
   "execution_count": 2,
   "id": "e09a1ecf",
   "metadata": {},
   "outputs": [],
   "source": [
    "import pandas as pd"
   ]
  },
  {
   "cell_type": "code",
   "execution_count": 3,
   "id": "a10a8a1c",
   "metadata": {},
   "outputs": [],
   "source": [
    "df=pd.read_csv(\"ab.csv\",index_col=0)"
   ]
  },
  {
   "cell_type": "code",
   "execution_count": 4,
   "id": "858bab24",
   "metadata": {},
   "outputs": [
    {
     "data": {
      "text/html": [
       "<div>\n",
       "<style scoped>\n",
       "    .dataframe tbody tr th:only-of-type {\n",
       "        vertical-align: middle;\n",
       "    }\n",
       "\n",
       "    .dataframe tbody tr th {\n",
       "        vertical-align: top;\n",
       "    }\n",
       "\n",
       "    .dataframe thead th {\n",
       "        text-align: right;\n",
       "    }\n",
       "</style>\n",
       "<table border=\"1\" class=\"dataframe\">\n",
       "  <thead>\n",
       "    <tr style=\"text-align: right;\">\n",
       "      <th></th>\n",
       "      <th>Recording locations:</th>\n",
       "      <th>Age</th>\n",
       "      <th>Sex</th>\n",
       "      <th>Height</th>\n",
       "      <th>Weight</th>\n",
       "      <th>Pregnancy status</th>\n",
       "      <th>Murmur</th>\n",
       "      <th>Murmur locations</th>\n",
       "      <th>Most audible location</th>\n",
       "      <th>Systolic murmur timing</th>\n",
       "      <th>Systolic murmur grading</th>\n",
       "      <th>Systolic murmur pitch</th>\n",
       "      <th>Diastolic murmur grading</th>\n",
       "      <th>Diastolic murmur pitch</th>\n",
       "      <th>Outcome</th>\n",
       "    </tr>\n",
       "  </thead>\n",
       "  <tbody>\n",
       "    <tr>\n",
       "      <th>0</th>\n",
       "      <td>AV+PV+TV+MV</td>\n",
       "      <td>Child</td>\n",
       "      <td>Female</td>\n",
       "      <td>98.000000</td>\n",
       "      <td>15.900000</td>\n",
       "      <td>False</td>\n",
       "      <td>Absent</td>\n",
       "      <td>MV+PV+TV</td>\n",
       "      <td>AV</td>\n",
       "      <td>0</td>\n",
       "      <td>I/VI</td>\n",
       "      <td>Medium</td>\n",
       "      <td>I/IV</td>\n",
       "      <td>Low</td>\n",
       "      <td>Abnormal</td>\n",
       "    </tr>\n",
       "    <tr>\n",
       "      <th>1</th>\n",
       "      <td>AV+PV+TV+MV</td>\n",
       "      <td>Child</td>\n",
       "      <td>Female</td>\n",
       "      <td>103.000000</td>\n",
       "      <td>13.100000</td>\n",
       "      <td>False</td>\n",
       "      <td>Present</td>\n",
       "      <td>AV+MV+PV+TV</td>\n",
       "      <td>TV</td>\n",
       "      <td>Holosystolic</td>\n",
       "      <td>III/VI</td>\n",
       "      <td>High</td>\n",
       "      <td>I/IV</td>\n",
       "      <td>Low</td>\n",
       "      <td>Abnormal</td>\n",
       "    </tr>\n",
       "    <tr>\n",
       "      <th>2</th>\n",
       "      <td>AV+PV+TV+MV</td>\n",
       "      <td>Child</td>\n",
       "      <td>Male</td>\n",
       "      <td>115.000000</td>\n",
       "      <td>19.100000</td>\n",
       "      <td>False</td>\n",
       "      <td>Unknown</td>\n",
       "      <td>MV+PV+TV</td>\n",
       "      <td>AV</td>\n",
       "      <td>2</td>\n",
       "      <td>I/VI</td>\n",
       "      <td>Medium</td>\n",
       "      <td>I/IV</td>\n",
       "      <td>Low</td>\n",
       "      <td>Abnormal</td>\n",
       "    </tr>\n",
       "    <tr>\n",
       "      <th>3</th>\n",
       "      <td>AV+PV+TV+MV</td>\n",
       "      <td>Child</td>\n",
       "      <td>Male</td>\n",
       "      <td>98.000000</td>\n",
       "      <td>15.900000</td>\n",
       "      <td>False</td>\n",
       "      <td>Present</td>\n",
       "      <td>TV</td>\n",
       "      <td>TV</td>\n",
       "      <td>Holosystolic</td>\n",
       "      <td>I/VI</td>\n",
       "      <td>Low</td>\n",
       "      <td>I/IV</td>\n",
       "      <td>High</td>\n",
       "      <td>Abnormal</td>\n",
       "    </tr>\n",
       "    <tr>\n",
       "      <th>4</th>\n",
       "      <td>AV+PV+TV+MV</td>\n",
       "      <td>Child</td>\n",
       "      <td>Male</td>\n",
       "      <td>87.000000</td>\n",
       "      <td>11.200000</td>\n",
       "      <td>False</td>\n",
       "      <td>Present</td>\n",
       "      <td>AV+MV+PV+TV</td>\n",
       "      <td>PV</td>\n",
       "      <td>Early-systolic</td>\n",
       "      <td>II/VI</td>\n",
       "      <td>Low</td>\n",
       "      <td>I/IV</td>\n",
       "      <td>Low</td>\n",
       "      <td>Abnormal</td>\n",
       "    </tr>\n",
       "    <tr>\n",
       "      <th>...</th>\n",
       "      <td>...</td>\n",
       "      <td>...</td>\n",
       "      <td>...</td>\n",
       "      <td>...</td>\n",
       "      <td>...</td>\n",
       "      <td>...</td>\n",
       "      <td>...</td>\n",
       "      <td>...</td>\n",
       "      <td>...</td>\n",
       "      <td>...</td>\n",
       "      <td>...</td>\n",
       "      <td>...</td>\n",
       "      <td>...</td>\n",
       "      <td>...</td>\n",
       "      <td>...</td>\n",
       "    </tr>\n",
       "    <tr>\n",
       "      <th>937</th>\n",
       "      <td>AV+PV+TV+MV</td>\n",
       "      <td>Child</td>\n",
       "      <td>Male</td>\n",
       "      <td>105.000000</td>\n",
       "      <td>16.600000</td>\n",
       "      <td>False</td>\n",
       "      <td>Absent</td>\n",
       "      <td>MV+PV+TV</td>\n",
       "      <td>AV</td>\n",
       "      <td>937</td>\n",
       "      <td>III/VI</td>\n",
       "      <td>Medium</td>\n",
       "      <td>III/IV</td>\n",
       "      <td>Medium</td>\n",
       "      <td>Normal</td>\n",
       "    </tr>\n",
       "    <tr>\n",
       "      <th>938</th>\n",
       "      <td>AV+PV+TV+MV</td>\n",
       "      <td>Child</td>\n",
       "      <td>Male</td>\n",
       "      <td>92.000000</td>\n",
       "      <td>15.200000</td>\n",
       "      <td>False</td>\n",
       "      <td>Absent</td>\n",
       "      <td>MV+PV+TV</td>\n",
       "      <td>MV</td>\n",
       "      <td>938</td>\n",
       "      <td>III/VI</td>\n",
       "      <td>High</td>\n",
       "      <td>III/IV</td>\n",
       "      <td>Medium</td>\n",
       "      <td>Normal</td>\n",
       "    </tr>\n",
       "    <tr>\n",
       "      <th>939</th>\n",
       "      <td>AV+PV+TV+MV</td>\n",
       "      <td>Child</td>\n",
       "      <td>Female</td>\n",
       "      <td>97.000000</td>\n",
       "      <td>13.500000</td>\n",
       "      <td>False</td>\n",
       "      <td>Present</td>\n",
       "      <td>MV+TV</td>\n",
       "      <td>TV</td>\n",
       "      <td>Early-systolic</td>\n",
       "      <td>I/VI</td>\n",
       "      <td>Low</td>\n",
       "      <td>III/IV</td>\n",
       "      <td>Low</td>\n",
       "      <td>Abnormal</td>\n",
       "    </tr>\n",
       "    <tr>\n",
       "      <th>940</th>\n",
       "      <td>AV+PV</td>\n",
       "      <td>Child</td>\n",
       "      <td>Female</td>\n",
       "      <td>132.000000</td>\n",
       "      <td>38.100000</td>\n",
       "      <td>False</td>\n",
       "      <td>Absent</td>\n",
       "      <td>MV+PV+TV</td>\n",
       "      <td>MV</td>\n",
       "      <td>940</td>\n",
       "      <td>III/VI</td>\n",
       "      <td>Medium</td>\n",
       "      <td>III/IV</td>\n",
       "      <td>Low</td>\n",
       "      <td>Normal</td>\n",
       "    </tr>\n",
       "    <tr>\n",
       "      <th>941</th>\n",
       "      <td>AV+PV+TV</td>\n",
       "      <td>941</td>\n",
       "      <td>Female</td>\n",
       "      <td>110.800242</td>\n",
       "      <td>23.632756</td>\n",
       "      <td>True</td>\n",
       "      <td>Absent</td>\n",
       "      <td>MV+PV+TV</td>\n",
       "      <td>AV</td>\n",
       "      <td>941</td>\n",
       "      <td>III/VI</td>\n",
       "      <td>Medium</td>\n",
       "      <td>III/IV</td>\n",
       "      <td>Low</td>\n",
       "      <td>Normal</td>\n",
       "    </tr>\n",
       "  </tbody>\n",
       "</table>\n",
       "<p>942 rows × 15 columns</p>\n",
       "</div>"
      ],
      "text/plain": [
       "    Recording locations:    Age     Sex      Height     Weight  \\\n",
       "0            AV+PV+TV+MV  Child  Female   98.000000  15.900000   \n",
       "1            AV+PV+TV+MV  Child  Female  103.000000  13.100000   \n",
       "2            AV+PV+TV+MV  Child    Male  115.000000  19.100000   \n",
       "3            AV+PV+TV+MV  Child    Male   98.000000  15.900000   \n",
       "4            AV+PV+TV+MV  Child    Male   87.000000  11.200000   \n",
       "..                   ...    ...     ...         ...        ...   \n",
       "937          AV+PV+TV+MV  Child    Male  105.000000  16.600000   \n",
       "938          AV+PV+TV+MV  Child    Male   92.000000  15.200000   \n",
       "939          AV+PV+TV+MV  Child  Female   97.000000  13.500000   \n",
       "940                AV+PV  Child  Female  132.000000  38.100000   \n",
       "941             AV+PV+TV    941  Female  110.800242  23.632756   \n",
       "\n",
       "     Pregnancy status   Murmur Murmur locations Most audible location  \\\n",
       "0               False   Absent         MV+PV+TV                    AV   \n",
       "1               False  Present      AV+MV+PV+TV                    TV   \n",
       "2               False  Unknown         MV+PV+TV                    AV   \n",
       "3               False  Present               TV                    TV   \n",
       "4               False  Present      AV+MV+PV+TV                    PV   \n",
       "..                ...      ...              ...                   ...   \n",
       "937             False   Absent         MV+PV+TV                    AV   \n",
       "938             False   Absent         MV+PV+TV                    MV   \n",
       "939             False  Present            MV+TV                    TV   \n",
       "940             False   Absent         MV+PV+TV                    MV   \n",
       "941              True   Absent         MV+PV+TV                    AV   \n",
       "\n",
       "    Systolic murmur timing Systolic murmur grading Systolic murmur pitch  \\\n",
       "0                        0                    I/VI                Medium   \n",
       "1             Holosystolic                  III/VI                  High   \n",
       "2                        2                    I/VI                Medium   \n",
       "3             Holosystolic                    I/VI                   Low   \n",
       "4           Early-systolic                   II/VI                   Low   \n",
       "..                     ...                     ...                   ...   \n",
       "937                    937                  III/VI                Medium   \n",
       "938                    938                  III/VI                  High   \n",
       "939         Early-systolic                    I/VI                   Low   \n",
       "940                    940                  III/VI                Medium   \n",
       "941                    941                  III/VI                Medium   \n",
       "\n",
       "    Diastolic murmur grading Diastolic murmur pitch   Outcome  \n",
       "0                       I/IV                    Low  Abnormal  \n",
       "1                       I/IV                    Low  Abnormal  \n",
       "2                       I/IV                    Low  Abnormal  \n",
       "3                       I/IV                   High  Abnormal  \n",
       "4                       I/IV                    Low  Abnormal  \n",
       "..                       ...                    ...       ...  \n",
       "937                   III/IV                 Medium    Normal  \n",
       "938                   III/IV                 Medium    Normal  \n",
       "939                   III/IV                    Low  Abnormal  \n",
       "940                   III/IV                    Low    Normal  \n",
       "941                   III/IV                    Low    Normal  \n",
       "\n",
       "[942 rows x 15 columns]"
      ]
     },
     "execution_count": 4,
     "metadata": {},
     "output_type": "execute_result"
    }
   ],
   "source": [
    "df"
   ]
  },
  {
   "cell_type": "markdown",
   "id": "16039c01",
   "metadata": {},
   "source": [
    " <b><h1>PRE-PROCESSING</b></h1>"
   ]
  },
  {
   "cell_type": "code",
   "execution_count": 6,
   "id": "769f3334",
   "metadata": {},
   "outputs": [],
   "source": [
    "import pandas as pd\n",
    "from sklearn.model_selection import train_test_split\n",
    "from sklearn.linear_model import LogisticRegression\n",
    "from sklearn.metrics import accuracy_score\n",
    "from sklearn.preprocessing import OneHotEncoder, StandardScaler\n",
    "from sklearn.compose import ColumnTransformer\n",
    "from sklearn.pipeline import Pipeline\n",
    "import joblib\n",
    "\n",
    "# Assuming df is your DataFrame\n",
    "\n",
    "# Define preprocessing steps\n",
    "categorical_cols = ['Recording locations:', 'Age', 'Sex', 'Murmur locations', 'Pregnancy status', 'Diastolic murmur grading', 'Systolic murmur grading', 'Murmur', 'Most audible location', 'Systolic murmur timing', 'Systolic murmur pitch', 'Diastolic murmur pitch']\n",
    "numerical_cols = ['Height', 'Weight']\n",
    "\n",
    "preprocessing_steps = [\n",
    "    ('onehot_encoder', OneHotEncoder(drop='first', sparse_output=False)),\n",
    "    ('scaler', StandardScaler())\n",
    "]\n",
    "\n",
    "\n",
    "# Create the column transformer\n",
    "column_transformer = ColumnTransformer(\n",
    "    transformers=[\n",
    "        ('onehot', OneHotEncoder(drop='first', sparse_output=False, handle_unknown='ignore'), categorical_cols),\n",
    "        ('scaler', StandardScaler(), numerical_cols)\n",
    "    ],\n",
    "    remainder='drop'  # <--- Add this parameter\n",
    ")\n",
    "\n",
    "# Create the pipeline\n",
    "preprocessing_pipeline = Pipeline([\n",
    "    ('column_transformer', column_transformer)\n",
    "])\n"
   ]
  },
  {
   "cell_type": "code",
   "execution_count": 7,
   "id": "4099ce98",
   "metadata": {},
   "outputs": [
    {
     "name": "stderr",
     "output_type": "stream",
     "text": [
      "C:\\Users\\shrut\\anaconda3\\Lib\\site-packages\\sklearn\\preprocessing\\_encoders.py:241: UserWarning: Found unknown categories in columns [0, 1, 9] during transform. These unknown categories will be encoded as all zeros\n",
      "  warnings.warn(\n"
     ]
    }
   ],
   "source": [
    "\n",
    "# Split the data into training and testing sets\n",
    "X_train, X_test, y_train, y_test = train_test_split(df.drop(columns=\"Outcome\"), df[\"Outcome\"], test_size=0.3, random_state=42)\n",
    "\n",
    "# Apply preprocessing pipeline to training data\n",
    "X_train_transformed = preprocessing_pipeline.fit_transform(X_train)\n",
    "\n",
    "# Apply preprocessing pipeline to testing data\n",
    "X_test_transformed = preprocessing_pipeline.transform(X_test)"
   ]
  },
  {
   "cell_type": "markdown",
   "id": "1a644aaf",
   "metadata": {},
   "source": [
    "# LOGISTIC REGRESSION "
   ]
  },
  {
   "cell_type": "code",
   "execution_count": 8,
   "id": "f0857de0",
   "metadata": {},
   "outputs": [
    {
     "name": "stdout",
     "output_type": "stream",
     "text": [
      "Accuracy: 0.6855123674911661\n"
     ]
    },
    {
     "name": "stderr",
     "output_type": "stream",
     "text": [
      "C:\\Users\\shrut\\anaconda3\\Lib\\site-packages\\sklearn\\preprocessing\\_encoders.py:241: UserWarning: Found unknown categories in columns [0, 1, 9] during transform. These unknown categories will be encoded as all zeros\n",
      "  warnings.warn(\n"
     ]
    }
   ],
   "source": [
    "# Train logistic regression model\n",
    "logistic_model = LogisticRegression()\n",
    "logistic_model.fit(X_train_transformed, y_train)\n",
    "\n",
    "# Save the model using joblib\n",
    "joblib.dump(logistic_model, 'logistic_regression_model.joblib')\n",
    "joblib.dump(preprocessing_pipeline, 'preprocessing_pipeline.joblib')\n",
    "y_pred = logistic_model.predict(preprocessing_pipeline.transform(X_test))\n",
    "\n",
    "# Calculate accuracy\n",
    "accuracy = accuracy_score(y_test, y_pred)\n",
    "print(\"Accuracy:\", accuracy)"
   ]
  },
  {
   "cell_type": "markdown",
   "id": "283a41a9",
   "metadata": {},
   "source": [
    "## SVM  "
   ]
  },
  {
   "cell_type": "code",
   "execution_count": 10,
   "id": "a003e6e1",
   "metadata": {},
   "outputs": [
    {
     "name": "stdout",
     "output_type": "stream",
     "text": [
      "Accuracy: 0.6537102473498233\n"
     ]
    },
    {
     "name": "stderr",
     "output_type": "stream",
     "text": [
      "C:\\Users\\shrut\\anaconda3\\Lib\\site-packages\\sklearn\\preprocessing\\_encoders.py:241: UserWarning: Found unknown categories in columns [0, 1, 9] during transform. These unknown categories will be encoded as all zeros\n",
      "  warnings.warn(\n"
     ]
    }
   ],
   "source": [
    "from sklearn.svm import SVC\n",
    "\n",
    "# Train SVM model\n",
    "svm_model = SVC()\n",
    "svm_model.fit(X_train_transformed, y_train)\n",
    "\n",
    "# Save the model and preprocessing pipeline using joblib\n",
    "joblib.dump(svm_model, 'svm_model.joblib')\n",
    "joblib.dump(preprocessing_pipeline, 'preprocessing_pipeline.joblib')\n",
    "\n",
    "# Transform the test data and make predictions\n",
    "X_test_transformed = preprocessing_pipeline.transform(X_test)\n",
    "y_pred = svm_model.predict(X_test_transformed)\n",
    "\n",
    "# Calculate accuracy\n",
    "accuracy = accuracy_score(y_test, y_pred)\n",
    "print(\"Accuracy:\", accuracy)"
   ]
  },
  {
   "cell_type": "markdown",
   "id": "ee5bccd7",
   "metadata": {},
   "source": [
    "## RANDOM FOREST CLASSIFIER"
   ]
  },
  {
   "cell_type": "code",
   "execution_count": 39,
   "id": "2839de4f",
   "metadata": {},
   "outputs": [
    {
     "name": "stdout",
     "output_type": "stream",
     "text": [
      "Accuracy: 0.6537102473498233\n"
     ]
    }
   ],
   "source": [
    "\n",
    "# Initialize the Random Forest Classifier\n",
    "model = RandomForestClassifier()\n",
    "\n",
    "# Train the model\n",
    "model.fit(X_train_transformed, y_train)\n",
    "\n",
    "# Save the model\n",
    "joblib.dump(model, 'random_forest_model.joblib')\n",
    "joblib.dump(preprocessing_pipeline, 'preprocessing_pipeline.joblib')\n",
    "\n",
    "\n",
    "# Make predictions on the test set\n",
    "y_pred = model.predict(X_test_transformed)\n",
    "\n",
    "# Calculate accuracy\n",
    "accuracy = accuracy_score(y_test, y_pred)\n",
    "print(\"Accuracy:\", accuracy)\n"
   ]
  },
  {
   "cell_type": "markdown",
   "id": "9ea6cd63",
   "metadata": {},
   "source": [
    "## GRADIENT BOOSTING CLASSIFIER"
   ]
  },
  {
   "cell_type": "code",
   "execution_count": 40,
   "id": "de17da6f",
   "metadata": {},
   "outputs": [
    {
     "name": "stdout",
     "output_type": "stream",
     "text": [
      "Accuracy: 0.6466431095406361\n"
     ]
    }
   ],
   "source": [
    "\n",
    "# Initialize the Gradient Boosting Classifier\n",
    "model = GradientBoostingClassifier()\n",
    "\n",
    "# Train the model\n",
    "model.fit(X_train_transformed, y_train)\n",
    "\n",
    "# Save the model\n",
    "joblib.dump(model, 'gradient_boosting_model.joblib')\n",
    "joblib.dump(preprocessing_pipeline, 'preprocessing_pipeline.joblib')\n",
    "\n",
    "# Make predictions on the test set\n",
    "y_pred = model.predict(X_test_transformed)\n",
    "\n",
    "# Calculate accuracy\n",
    "accuracy = accuracy_score(y_test, y_pred)\n",
    "print(\"Accuracy:\", accuracy)\n"
   ]
  },
  {
   "cell_type": "markdown",
   "id": "37e90da5",
   "metadata": {},
   "source": [
    "## MLP CLASSIFIER"
   ]
  },
  {
   "cell_type": "code",
   "execution_count": 38,
   "id": "76065186",
   "metadata": {},
   "outputs": [
    {
     "name": "stdout",
     "output_type": "stream",
     "text": [
      "Accuracy: 0.6148409893992933\n"
     ]
    },
    {
     "name": "stderr",
     "output_type": "stream",
     "text": [
      "C:\\Users\\shrut\\anaconda3\\Lib\\site-packages\\sklearn\\neural_network\\_multilayer_perceptron.py:691: ConvergenceWarning: Stochastic Optimizer: Maximum iterations (200) reached and the optimization hasn't converged yet.\n",
      "  warnings.warn(\n"
     ]
    }
   ],
   "source": [
    "from sklearn.neural_network import MLPClassifier\n",
    "from sklearn.metrics import accuracy_score\n",
    "import joblib\n",
    "\n",
    "# Initialize the MLP Classifier\n",
    "model = MLPClassifier()\n",
    "\n",
    "# Train the model\n",
    "model.fit(X_train_transformed, y_train)\n",
    "\n",
    "# Save the model\n",
    "joblib.dump(model, 'mlp_classifier_model.joblib')\n",
    "joblib.dump(preprocessing_pipeline, 'preprocessing_pipeline.joblib')\n",
    "\n",
    "\n",
    "# Make predictions on the test set\n",
    "y_pred = model.predict(X_test_transformed)\n",
    "\n",
    "# Calculate accuracy\n",
    "accuracy = accuracy_score(y_test, y_pred)\n",
    "print(\"Accuracy:\", accuracy)\n"
   ]
  },
  {
   "cell_type": "markdown",
   "id": "13b9b17c",
   "metadata": {},
   "source": [
    "## ADABOOST CLASSIFIER"
   ]
  },
  {
   "cell_type": "code",
   "execution_count": 37,
   "id": "3cbd7f18",
   "metadata": {},
   "outputs": [
    {
     "name": "stderr",
     "output_type": "stream",
     "text": [
      "C:\\Users\\shrut\\anaconda3\\Lib\\site-packages\\sklearn\\ensemble\\_weight_boosting.py:519: FutureWarning: The SAMME.R algorithm (the default) is deprecated and will be removed in 1.6. Use the SAMME algorithm to circumvent this warning.\n",
      "  warnings.warn(\n"
     ]
    },
    {
     "name": "stdout",
     "output_type": "stream",
     "text": [
      "Accuracy: 0.6890459363957597\n"
     ]
    }
   ],
   "source": [
    "\n",
    "# Initialize the AdaBoost Classifier\n",
    "model = AdaBoostClassifier()\n",
    "\n",
    "# Train the model\n",
    "model.fit(X_train_transformed, y_train)\n",
    "\n",
    "# Save the model\n",
    "joblib.dump(model, 'adaboost_model.joblib')\n",
    "joblib.dump(preprocessing_pipeline, 'preprocessing_pipeline.joblib')\n",
    "\n",
    "# Make predictions on the test set\n",
    "y_pred = model.predict(X_test_transformed)\n",
    "\n",
    "# Calculate accuracy\n",
    "accuracy = accuracy_score(y_test, y_pred)\n",
    "print(\"Accuracy:\", accuracy)\n"
   ]
  },
  {
   "cell_type": "markdown",
   "id": "754023ba",
   "metadata": {},
   "source": [
    "## KNN CLASSIFIER"
   ]
  },
  {
   "cell_type": "code",
   "execution_count": 36,
   "id": "6f3665e1",
   "metadata": {},
   "outputs": [
    {
     "name": "stdout",
     "output_type": "stream",
     "text": [
      "Accuracy: 0.6219081272084805\n"
     ]
    }
   ],
   "source": [
    "# Initialize the K-Nearest Neighbors Classifier\n",
    "model = KNeighborsClassifier()\n",
    "\n",
    "# Train the model\n",
    "model.fit(X_train_transformed, y_train)\n",
    "\n",
    "# Save the model\n",
    "joblib.dump(model, 'knn_model.joblib')\n",
    "joblib.dump(preprocessing_pipeline, 'preprocessing_pipeline.joblib')\n",
    "\n",
    "\n",
    "# Make predictions on the test set\n",
    "y_pred = model.predict(X_test_transformed)\n",
    "\n",
    "# Calculate accuracy\n",
    "accuracy = accuracy_score(y_test, y_pred)\n",
    "print(\"Accuracy:\", accuracy)"
   ]
  },
  {
   "cell_type": "markdown",
   "id": "0b70cebc",
   "metadata": {},
   "source": [
    "## LIGHTGBM CLASSIFIER"
   ]
  },
  {
   "cell_type": "code",
   "execution_count": 35,
   "id": "9fdc7a51",
   "metadata": {},
   "outputs": [
    {
     "name": "stdout",
     "output_type": "stream",
     "text": [
      "[LightGBM] [Info] Number of positive: 348, number of negative: 311\n",
      "[LightGBM] [Info] Auto-choosing row-wise multi-threading, the overhead of testing was 0.000184 seconds.\n",
      "You can set `force_row_wise=true` to remove the overhead.\n",
      "And if memory is not enough, you can set `force_col_wise=true`.\n",
      "[LightGBM] [Info] Total Bins 378\n",
      "[LightGBM] [Info] Number of data points in the train set: 659, number of used features: 29\n",
      "[LightGBM] [Info] [binary:BoostFromScore]: pavg=0.528073 -> initscore=0.112410\n",
      "[LightGBM] [Info] Start training from score 0.112410\n",
      "[LightGBM] [Warning] No further splits with positive gain, best gain: -inf\n",
      "[LightGBM] [Warning] No further splits with positive gain, best gain: -inf\n",
      "[LightGBM] [Warning] No further splits with positive gain, best gain: -inf\n",
      "[LightGBM] [Warning] No further splits with positive gain, best gain: -inf\n",
      "[LightGBM] [Warning] No further splits with positive gain, best gain: -inf\n",
      "[LightGBM] [Warning] No further splits with positive gain, best gain: -inf\n",
      "[LightGBM] [Warning] No further splits with positive gain, best gain: -inf\n",
      "[LightGBM] [Warning] No further splits with positive gain, best gain: -inf\n",
      "[LightGBM] [Warning] No further splits with positive gain, best gain: -inf\n",
      "[LightGBM] [Warning] No further splits with positive gain, best gain: -inf\n",
      "[LightGBM] [Warning] No further splits with positive gain, best gain: -inf\n",
      "[LightGBM] [Warning] No further splits with positive gain, best gain: -inf\n",
      "[LightGBM] [Warning] No further splits with positive gain, best gain: -inf\n",
      "[LightGBM] [Warning] No further splits with positive gain, best gain: -inf\n",
      "[LightGBM] [Warning] No further splits with positive gain, best gain: -inf\n",
      "[LightGBM] [Warning] No further splits with positive gain, best gain: -inf\n",
      "[LightGBM] [Warning] No further splits with positive gain, best gain: -inf\n",
      "[LightGBM] [Warning] No further splits with positive gain, best gain: -inf\n",
      "[LightGBM] [Warning] No further splits with positive gain, best gain: -inf\n",
      "[LightGBM] [Warning] No further splits with positive gain, best gain: -inf\n",
      "[LightGBM] [Warning] No further splits with positive gain, best gain: -inf\n",
      "[LightGBM] [Warning] No further splits with positive gain, best gain: -inf\n",
      "[LightGBM] [Warning] No further splits with positive gain, best gain: -inf\n",
      "[LightGBM] [Warning] No further splits with positive gain, best gain: -inf\n",
      "[LightGBM] [Warning] No further splits with positive gain, best gain: -inf\n",
      "[LightGBM] [Warning] No further splits with positive gain, best gain: -inf\n",
      "[LightGBM] [Warning] No further splits with positive gain, best gain: -inf\n",
      "[LightGBM] [Warning] No further splits with positive gain, best gain: -inf\n",
      "[LightGBM] [Warning] No further splits with positive gain, best gain: -inf\n",
      "[LightGBM] [Warning] No further splits with positive gain, best gain: -inf\n",
      "[LightGBM] [Warning] No further splits with positive gain, best gain: -inf\n",
      "[LightGBM] [Warning] No further splits with positive gain, best gain: -inf\n",
      "[LightGBM] [Warning] No further splits with positive gain, best gain: -inf\n",
      "[LightGBM] [Warning] No further splits with positive gain, best gain: -inf\n",
      "[LightGBM] [Warning] No further splits with positive gain, best gain: -inf\n",
      "[LightGBM] [Warning] No further splits with positive gain, best gain: -inf\n",
      "[LightGBM] [Warning] No further splits with positive gain, best gain: -inf\n",
      "[LightGBM] [Warning] No further splits with positive gain, best gain: -inf\n",
      "[LightGBM] [Warning] No further splits with positive gain, best gain: -inf\n",
      "[LightGBM] [Warning] No further splits with positive gain, best gain: -inf\n",
      "[LightGBM] [Warning] No further splits with positive gain, best gain: -inf\n",
      "[LightGBM] [Warning] No further splits with positive gain, best gain: -inf\n",
      "[LightGBM] [Warning] No further splits with positive gain, best gain: -inf\n",
      "[LightGBM] [Warning] No further splits with positive gain, best gain: -inf\n",
      "[LightGBM] [Warning] No further splits with positive gain, best gain: -inf\n",
      "[LightGBM] [Warning] No further splits with positive gain, best gain: -inf\n",
      "[LightGBM] [Warning] No further splits with positive gain, best gain: -inf\n",
      "[LightGBM] [Warning] No further splits with positive gain, best gain: -inf\n",
      "[LightGBM] [Warning] No further splits with positive gain, best gain: -inf\n",
      "[LightGBM] [Warning] No further splits with positive gain, best gain: -inf\n",
      "[LightGBM] [Warning] No further splits with positive gain, best gain: -inf\n",
      "[LightGBM] [Warning] No further splits with positive gain, best gain: -inf\n",
      "[LightGBM] [Warning] No further splits with positive gain, best gain: -inf\n",
      "[LightGBM] [Warning] No further splits with positive gain, best gain: -inf\n",
      "[LightGBM] [Warning] No further splits with positive gain, best gain: -inf\n",
      "[LightGBM] [Warning] No further splits with positive gain, best gain: -inf\n",
      "[LightGBM] [Warning] No further splits with positive gain, best gain: -inf\n",
      "[LightGBM] [Warning] No further splits with positive gain, best gain: -inf\n",
      "[LightGBM] [Warning] No further splits with positive gain, best gain: -inf\n",
      "[LightGBM] [Warning] No further splits with positive gain, best gain: -inf\n",
      "[LightGBM] [Warning] No further splits with positive gain, best gain: -inf\n",
      "[LightGBM] [Warning] No further splits with positive gain, best gain: -inf\n",
      "[LightGBM] [Warning] No further splits with positive gain, best gain: -inf\n",
      "[LightGBM] [Warning] No further splits with positive gain, best gain: -inf\n",
      "[LightGBM] [Warning] No further splits with positive gain, best gain: -inf\n",
      "[LightGBM] [Warning] No further splits with positive gain, best gain: -inf\n",
      "[LightGBM] [Warning] No further splits with positive gain, best gain: -inf\n",
      "[LightGBM] [Warning] No further splits with positive gain, best gain: -inf\n",
      "[LightGBM] [Warning] No further splits with positive gain, best gain: -inf\n",
      "[LightGBM] [Warning] No further splits with positive gain, best gain: -inf\n",
      "[LightGBM] [Warning] No further splits with positive gain, best gain: -inf\n",
      "[LightGBM] [Warning] No further splits with positive gain, best gain: -inf\n",
      "[LightGBM] [Warning] No further splits with positive gain, best gain: -inf\n",
      "[LightGBM] [Warning] No further splits with positive gain, best gain: -inf\n",
      "[LightGBM] [Warning] No further splits with positive gain, best gain: -inf\n",
      "[LightGBM] [Warning] No further splits with positive gain, best gain: -inf\n",
      "[LightGBM] [Warning] No further splits with positive gain, best gain: -inf\n",
      "[LightGBM] [Warning] No further splits with positive gain, best gain: -inf\n",
      "[LightGBM] [Warning] No further splits with positive gain, best gain: -inf\n",
      "[LightGBM] [Warning] No further splits with positive gain, best gain: -inf\n",
      "[LightGBM] [Warning] No further splits with positive gain, best gain: -inf\n",
      "[LightGBM] [Warning] No further splits with positive gain, best gain: -inf\n",
      "[LightGBM] [Warning] No further splits with positive gain, best gain: -inf\n",
      "[LightGBM] [Warning] No further splits with positive gain, best gain: -inf\n",
      "[LightGBM] [Warning] No further splits with positive gain, best gain: -inf\n",
      "[LightGBM] [Warning] No further splits with positive gain, best gain: -inf\n",
      "[LightGBM] [Warning] No further splits with positive gain, best gain: -inf\n",
      "[LightGBM] [Warning] No further splits with positive gain, best gain: -inf\n",
      "[LightGBM] [Warning] No further splits with positive gain, best gain: -inf\n",
      "[LightGBM] [Warning] No further splits with positive gain, best gain: -inf\n",
      "[LightGBM] [Warning] No further splits with positive gain, best gain: -inf\n",
      "[LightGBM] [Warning] No further splits with positive gain, best gain: -inf\n",
      "[LightGBM] [Warning] No further splits with positive gain, best gain: -inf\n",
      "[LightGBM] [Warning] No further splits with positive gain, best gain: -inf\n",
      "[LightGBM] [Warning] No further splits with positive gain, best gain: -inf\n",
      "[LightGBM] [Warning] No further splits with positive gain, best gain: -inf\n",
      "[LightGBM] [Warning] No further splits with positive gain, best gain: -inf\n",
      "[LightGBM] [Warning] No further splits with positive gain, best gain: -inf\n",
      "[LightGBM] [Warning] No further splits with positive gain, best gain: -inf\n",
      "[LightGBM] [Warning] No further splits with positive gain, best gain: -inf\n",
      "Accuracy: 0.6289752650176679\n"
     ]
    }
   ],
   "source": [
    "# Initialize the LightGBM Classifier\n",
    "model = LGBMClassifier()\n",
    "\n",
    "# Train the model\n",
    "model.fit(X_train_transformed, y_train)\n",
    "\n",
    "# Save the model\n",
    "joblib.dump(model, 'lightgbm_model.joblib')\n",
    "joblib.dump(preprocessing_pipeline, 'preprocessing_pipeline.joblib')\n",
    "\n",
    "# Make predictions on the test set\n",
    "y_pred = model.predict(X_test_transformed)\n",
    "\n",
    "# Calculate accuracy\n",
    "accuracy = accuracy_score(y_test, y_pred)\n",
    "print(\"Accuracy:\", accuracy)"
   ]
  },
  {
   "cell_type": "markdown",
   "id": "b4148f8c",
   "metadata": {},
   "source": [
    "## GAUSSIAN PROCESS CLASSIFIER"
   ]
  },
  {
   "cell_type": "code",
   "execution_count": 34,
   "id": "fe39d453",
   "metadata": {},
   "outputs": [
    {
     "name": "stdout",
     "output_type": "stream",
     "text": [
      "Accuracy: 0.696113074204947\n"
     ]
    }
   ],
   "source": [
    "# Initialize the Gaussian Process Classifier with the defined kernel\n",
    "model = GaussianProcessClassifier(kernel=kernel)\n",
    "\n",
    "# Train the model\n",
    "model.fit(X_train_transformed, y_train)\n",
    "\n",
    "# Save the model\n",
    "joblib.dump(model, 'gaussian_process_model.joblib')\n",
    "joblib.dump(preprocessing_pipeline, 'preprocessing_pipeline.joblib')\n",
    "\n",
    "# Make predictions on the test set\n",
    "y_pred = model.predict(X_test_transformed)\n",
    "\n",
    "# Calculate accuracy\n",
    "accuracy = accuracy_score(y_test, y_pred)\n",
    "print(\"Accuracy:\", accuracy)"
   ]
  },
  {
   "cell_type": "code",
   "execution_count": null,
   "id": "b681a8ff",
   "metadata": {},
   "outputs": [],
   "source": []
  }
 ],
 "metadata": {
  "kernelspec": {
   "display_name": "Python 3 (ipykernel)",
   "language": "python",
   "name": "python3"
  },
  "language_info": {
   "codemirror_mode": {
    "name": "ipython",
    "version": 3
   },
   "file_extension": ".py",
   "mimetype": "text/x-python",
   "name": "python",
   "nbconvert_exporter": "python",
   "pygments_lexer": "ipython3",
   "version": "3.11.5"
  }
 },
 "nbformat": 4,
 "nbformat_minor": 5
}
